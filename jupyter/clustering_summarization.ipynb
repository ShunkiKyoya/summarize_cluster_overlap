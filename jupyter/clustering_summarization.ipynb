{
 "cells": [
  {
   "cell_type": "markdown",
   "metadata": {},
   "source": [
    "## Import Packages"
   ]
  },
  {
   "cell_type": "code",
   "execution_count": 1,
   "metadata": {},
   "outputs": [],
   "source": [
    "import sys\n",
    "from json import dumps\n",
    "\n",
    "sys.path.append('../')"
   ]
  },
  {
   "cell_type": "code",
   "execution_count": 2,
   "metadata": {},
   "outputs": [],
   "source": [
    "from datasets import load_data\n",
    "from src.gaussian_mixture import GMMModelSelection\n",
    "from src.merge_components import NMCMergeComponents"
   ]
  },
  {
   "cell_type": "markdown",
   "metadata": {},
   "source": [
    "# Flea beetles Dataset\n",
    "\n",
    "## Load data"
   ]
  },
  {
   "cell_type": "code",
   "execution_count": 3,
   "metadata": {},
   "outputs": [],
   "source": [
    "X, _ = load_data(data_name='beetles', scaling=True)"
   ]
  },
  {
   "cell_type": "markdown",
   "metadata": {},
   "source": [
    "## Fit GMM to obtain unmerged probabilities (prob_0)"
   ]
  },
  {
   "cell_type": "code",
   "execution_count": 4,
   "metadata": {},
   "outputs": [],
   "source": [
    "gmm = GMMModelSelection(K_max=20, mode='BGMM', weight_concentration_prior=0.1, random_state=2)\n",
    "gmm.fit(X)\n",
    "prob_0 = gmm.prob_latent(X)"
   ]
  },
  {
   "cell_type": "markdown",
   "metadata": {},
   "source": [
    "## Fit merging algorithm to obtain clustering summarization"
   ]
  },
  {
   "cell_type": "code",
   "execution_count": 5,
   "metadata": {},
   "outputs": [],
   "source": [
    "algorithm = NMCMergeComponents()\n",
    "algorithm.fit(prob_0)\n",
    "summary = algorithm.clustering_summarization(prob_0, algorithm.K_nmc_)"
   ]
  },
  {
   "cell_type": "markdown",
   "metadata": {},
   "source": [
    "## Results"
   ]
  },
  {
   "cell_type": "code",
   "execution_count": 6,
   "metadata": {},
   "outputs": [
    {
     "name": "stdout",
     "output_type": "stream",
     "text": [
      "{\n",
      "  \"Upper-components\": {\n",
      "    \"MC\": 0.9629300775202763,\n",
      "    \"NMC\": 0.8967659716919967\n",
      "  },\n",
      "  \"Component 0\": {\n",
      "    \"Weight\": 0.43933391402699595,\n",
      "    \"MC\": 0.056913500941558476,\n",
      "    \"exp(MC)\": 1.0585642416250505,\n",
      "    \"NMC\": 0.20825617734006183\n",
      "  },\n",
      "  \"Component 1\": {\n",
      "    \"Weight\": 0.26724160206182795,\n",
      "    \"MC\": -2.220446049250313e-16,\n",
      "    \"exp(MC)\": 0.9999999999999998,\n",
      "    \"NMC\": 0.0\n",
      "  },\n",
      "  \"Component 2\": {\n",
      "    \"Weight\": 0.2934244839111761,\n",
      "    \"MC\": 1.1102230246251564e-16,\n",
      "    \"exp(MC)\": 1.0,\n",
      "    \"NMC\": 0.0\n",
      "  }\n",
      "}\n"
     ]
    }
   ],
   "source": [
    "print(dumps(summary, indent=2))"
   ]
  },
  {
   "cell_type": "markdown",
   "metadata": {},
   "source": [
    "# Wisconsin Breast Cancer Dataset\n",
    "\n",
    "## Load data"
   ]
  },
  {
   "cell_type": "code",
   "execution_count": 7,
   "metadata": {},
   "outputs": [],
   "source": [
    "X, _ = load_data(data_name='wisconsin', scaling=True)"
   ]
  },
  {
   "cell_type": "markdown",
   "metadata": {},
   "source": [
    "## Fit GMM to obtain unmerged probabilities (prob_0)"
   ]
  },
  {
   "cell_type": "code",
   "execution_count": 8,
   "metadata": {},
   "outputs": [],
   "source": [
    "gmm = GMMModelSelection(K_max=20, mode='BGMM', weight_concentration_prior=0.1, random_state=1)\n",
    "gmm.fit(X)\n",
    "prob_0 = gmm.prob_latent(X)"
   ]
  },
  {
   "cell_type": "markdown",
   "metadata": {},
   "source": [
    "## Fit merging algorithm to obtain clustering summarization"
   ]
  },
  {
   "cell_type": "code",
   "execution_count": 9,
   "metadata": {},
   "outputs": [],
   "source": [
    "algorithm = NMCMergeComponents()\n",
    "algorithm.fit(prob_0)\n",
    "summary = algorithm.clustering_summarization(prob_0, algorithm.K_nmc_)"
   ]
  },
  {
   "cell_type": "markdown",
   "metadata": {},
   "source": [
    "## Results"
   ]
  },
  {
   "cell_type": "code",
   "execution_count": 10,
   "metadata": {},
   "outputs": [
    {
     "name": "stdout",
     "output_type": "stream",
     "text": [
      "{\n",
      "  \"Upper-components\": {\n",
      "    \"MC\": 0.5088602110964211,\n",
      "    \"NMC\": 0.7625818399571737\n",
      "  },\n",
      "  \"Component 0\": {\n",
      "    \"Weight\": 0.3867802282194372,\n",
      "    \"MC\": 0.7139378309507982,\n",
      "    \"exp(MC)\": 2.042016563154572,\n",
      "    \"NMC\": 0.6125554793306818\n",
      "  },\n",
      "  \"Component 1\": {\n",
      "    \"Weight\": 0.6132197717805629,\n",
      "    \"MC\": 0.27013763353673154,\n",
      "    \"exp(MC)\": 1.3101447581814856,\n",
      "    \"NMC\": 0.6759865308558058\n",
      "  }\n",
      "}\n"
     ]
    }
   ],
   "source": [
    "print(dumps(summary, indent=2))"
   ]
  }
 ],
 "metadata": {
  "kernelspec": {
   "display_name": "Python 3",
   "language": "python",
   "name": "python3"
  },
  "language_info": {
   "codemirror_mode": {
    "name": "ipython",
    "version": 3
   },
   "file_extension": ".py",
   "mimetype": "text/x-python",
   "name": "python",
   "nbconvert_exporter": "python",
   "pygments_lexer": "ipython3",
   "version": "3.7.9"
  }
 },
 "nbformat": 4,
 "nbformat_minor": 4
}
