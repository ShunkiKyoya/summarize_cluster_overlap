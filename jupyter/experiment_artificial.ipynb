{
 "cells": [
  {
   "cell_type": "markdown",
   "metadata": {},
   "source": [
    "# Import Packages"
   ]
  },
  {
   "cell_type": "code",
   "execution_count": 1,
   "metadata": {},
   "outputs": [],
   "source": [
    "import sys\n",
    "\n",
    "sys.path.append('../')"
   ]
  },
  {
   "cell_type": "code",
   "execution_count": 2,
   "metadata": {},
   "outputs": [],
   "source": [
    "import numpy as np\n",
    "from numpy.random import RandomState\n",
    "from tqdm.notebook import tqdm"
   ]
  },
  {
   "cell_type": "code",
   "execution_count": 3,
   "metadata": {},
   "outputs": [],
   "source": [
    "from src.evaluation_metrics import (\n",
    "    max_intra_distance,\n",
    "    min_inter_distance\n",
    ")\n",
    "from src.gaussian_mixture import GMMUtils\n",
    "from src.merge_components import (\n",
    "    EntMergeComponents,\n",
    "    NEnt1MergeComponents,\n",
    "    DEMPMergeComponents,\n",
    "    DEMP2MergeComponents,\n",
    "    MCMergeComponents,\n",
    "    NMCMergeComponents\n",
    ")"
   ]
  },
  {
   "cell_type": "markdown",
   "metadata": {},
   "source": [
    "# Helper Functions"
   ]
  },
  {
   "cell_type": "code",
   "execution_count": 4,
   "metadata": {},
   "outputs": [],
   "source": [
    "def create_artificial_prob(seed):\n",
    "    \"\"\"\n",
    "    Create unmerged probabilities (prob_0) from the artificial dataset.\n",
    "\n",
    "    Args:\n",
    "        seed (int): random seed.\n",
    "    Returns:\n",
    "        Tuple[ndarray, ndarray]: X, prob_0.\n",
    "    \"\"\"\n",
    "    random = RandomState(seed)\n",
    "    K = 50\n",
    "    D = 2\n",
    "    rho = random.dirichlet(alpha=np.ones(K) * 1.0)\n",
    "    means = random.randn(K, D) * 3\n",
    "    covariances = [np.eye(D) for k in range(K)]\n",
    "    gmm = GMMUtils(rho, means, covariances)\n",
    "    X = gmm.sample(N=5000, random_state=seed)\n",
    "    prob_0 = gmm.prob_latent(X)\n",
    "    return X, prob_0"
   ]
  },
  {
   "cell_type": "markdown",
   "metadata": {},
   "source": [
    "# Artificial Experiment"
   ]
  },
  {
   "cell_type": "code",
   "execution_count": 5,
   "metadata": {},
   "outputs": [
    {
     "data": {
      "application/vnd.jupyter.widget-view+json": {
       "model_id": "ea637250d44e402dacbfc5e96b744bc7",
       "version_major": 2,
       "version_minor": 0
      },
      "text/plain": [
       "HBox(children=(HTML(value=''), FloatProgress(value=0.0), HTML(value='')))"
      ]
     },
     "metadata": {},
     "output_type": "display_data"
    },
    {
     "name": "stdout",
     "output_type": "stream",
     "text": [
      "\n"
     ]
    }
   ],
   "source": [
    "T = 100  # number of trial\n",
    "L_list = [40, 30, 20, 10, 5]  # numbers of the components measured the distance\n",
    "\n",
    "results_intra = np.zeros([6, len(L_list), T])\n",
    "results_inter = np.zeros([6, len(L_list), T])\n",
    "\n",
    "for t in tqdm(range(T)):\n",
    "    X, prob_0 = create_artificial_prob(seed=t + 100)\n",
    "    algorithm_list = [\n",
    "        EntMergeComponents(),\n",
    "        NEnt1MergeComponents(),\n",
    "        DEMPMergeComponents(),\n",
    "        DEMP2MergeComponents(),\n",
    "        MCMergeComponents(),\n",
    "        NMCMergeComponents()\n",
    "    ]\n",
    "    # fit\n",
    "    for algorithm in algorithm_list:\n",
    "        algorithm.fit(prob_0)\n",
    "    # calculate distances\n",
    "    for i in range(6):\n",
    "        for j in range(len(L_list)):\n",
    "            results_intra[i, j, t] = max_intra_distance(X, algorithm_list[i].prob_merged(prob_0, L_list[j]))\n",
    "            results_inter[i, j, t] = min_inter_distance(X, algorithm_list[i].prob_merged(prob_0, L_list[j]))"
   ]
  },
  {
   "cell_type": "markdown",
   "metadata": {},
   "source": [
    "# Create Ranking"
   ]
  },
  {
   "cell_type": "code",
   "execution_count": 6,
   "metadata": {},
   "outputs": [],
   "source": [
    "def rank(a):\n",
    "    u, cnt = np.unique(a, return_counts=True)\n",
    "    values = np.cumsum(cnt) - 0.5 * (cnt - 1)\n",
    "    indices = np.searchsorted(u, a)\n",
    "    return values[indices]"
   ]
  },
  {
   "cell_type": "code",
   "execution_count": 7,
   "metadata": {},
   "outputs": [
    {
     "name": "stdout",
     "output_type": "stream",
     "text": [
      "[[6.    6.    6.    5.94  5.58 ]\n",
      " [3.67  4.145 3.92  4.15  4.18 ]\n",
      " [4.305 4.56  4.065 2.57  2.13 ]\n",
      " [2.4   2.525 2.45  2.125 1.905]\n",
      " [2.255 2.04  3.215 4.525 4.94 ]\n",
      " [2.37  1.73  1.35  1.69  2.265]]\n"
     ]
    }
   ],
   "source": [
    "ranks_intra = np.zeros([6, len(L_list), T])\n",
    "for j in range(len(L_list)):\n",
    "    for t in range(T):\n",
    "        ranks_intra[:, j, t] = rank(results_intra[:, j, t])\n",
    "\n",
    "print(np.mean(ranks_intra, axis=2))"
   ]
  },
  {
   "cell_type": "code",
   "execution_count": 8,
   "metadata": {},
   "outputs": [
    {
     "name": "stdout",
     "output_type": "stream",
     "text": [
      "[[5.02  5.145 5.375 5.505 5.19 ]\n",
      " [4.285 4.23  4.255 4.56  3.99 ]\n",
      " [4.99  4.97  4.815 2.88  2.635]\n",
      " [3.555 3.55  3.17  2.855 2.485]\n",
      " [2.09  2.06  2.35  3.905 4.86 ]\n",
      " [1.06  1.045 1.035 1.295 1.84 ]]\n"
     ]
    }
   ],
   "source": [
    "ranks_inter = np.zeros([6, len(L_list), T])\n",
    "for j in range(len(L_list)):\n",
    "    for t in range(T):\n",
    "        ranks_inter[:, j, t] = rank(- results_inter[:, j, t])\n",
    "\n",
    "print(np.mean(ranks_inter, axis=2))"
   ]
  }
 ],
 "metadata": {
  "kernelspec": {
   "display_name": "Python 3",
   "language": "python",
   "name": "python3"
  },
  "language_info": {
   "codemirror_mode": {
    "name": "ipython",
    "version": 3
   },
   "file_extension": ".py",
   "mimetype": "text/x-python",
   "name": "python",
   "nbconvert_exporter": "python",
   "pygments_lexer": "ipython3",
   "version": "3.7.9"
  }
 },
 "nbformat": 4,
 "nbformat_minor": 4
}
