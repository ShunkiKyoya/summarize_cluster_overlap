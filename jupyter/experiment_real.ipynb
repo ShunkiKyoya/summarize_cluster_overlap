{
 "cells": [
  {
   "cell_type": "markdown",
   "metadata": {},
   "source": [
    "# Import Packages"
   ]
  },
  {
   "cell_type": "code",
   "execution_count": 1,
   "metadata": {},
   "outputs": [],
   "source": [
    "from copy import deepcopy\n",
    "import sys\n",
    "\n",
    "sys.path.append('../')"
   ]
  },
  {
   "cell_type": "code",
   "execution_count": 2,
   "metadata": {},
   "outputs": [],
   "source": [
    "import numpy as np\n",
    "from tqdm.notebook import tqdm"
   ]
  },
  {
   "cell_type": "code",
   "execution_count": 3,
   "metadata": {},
   "outputs": [],
   "source": [
    "from datasets import load_data\n",
    "from src.comparison_methods import MixtureOfMixture\n",
    "from src.gaussian_mixture import GMMModelSelection\n",
    "from src.evaluation_metrics import (\n",
    "    ari,\n",
    "    f_measure\n",
    ")\n",
    "from src.merge_components import (\n",
    "    EntMergeComponents,\n",
    "    NEnt1MergeComponents,\n",
    "    DEMPMergeComponents,\n",
    "    DEMP2MergeComponents,\n",
    "    MCMergeComponents,\n",
    "    NMCMergeComponents\n",
    ")"
   ]
  },
  {
   "cell_type": "markdown",
   "metadata": {},
   "source": [
    "# GMM + BIC"
   ]
  },
  {
   "cell_type": "code",
   "execution_count": 16,
   "metadata": {},
   "outputs": [],
   "source": [
    "def experiment_gmm_bic(data_name, repeat=10):\n",
    "    \n",
    "    X, Z_true = load_data(data_name, scaling=True)\n",
    "    \n",
    "    def one_trial(seed):\n",
    "        gmm = GMMModelSelection(K_max=10, mode='GMM_BIC', random_state=seed, tol=1e-3)\n",
    "        gmm.fit(X)\n",
    "        Z_pred = gmm.predict(X)\n",
    "        K_ = gmm.K_\n",
    "        f_measure_ = f_measure(Z_true, Z_pred)\n",
    "        ari_ = ari(Z_true, Z_pred)\n",
    "\n",
    "        return K_, f_measure_, ari_\n",
    "\n",
    "    K_list = []\n",
    "    f_measure_list = []\n",
    "    ari_list = []\n",
    "\n",
    "    for t in tqdm(range(repeat), leave=False):\n",
    "        K_, f_measure_, ari_ = one_trial(seed=t)\n",
    "        K_list.append(K_)\n",
    "        f_measure_list.append(f_measure_)\n",
    "        ari_list.append(ari_)\n",
    "\n",
    "    print('--- average score ---')\n",
    "    print(f'  K:         {np.mean(K_list)}')\n",
    "    print(f'  f_measure: {np.mean(f_measure_list)}')\n",
    "    print(f'  ARI:       {np.mean(ari_list)}')"
   ]
  },
  {
   "cell_type": "code",
   "execution_count": 20,
   "metadata": {},
   "outputs": [
    {
     "name": "stdout",
     "output_type": "stream",
     "text": [
      "[AIS]\n"
     ]
    },
    {
     "data": {
      "application/vnd.jupyter.widget-view+json": {
       "model_id": "",
       "version_major": 2,
       "version_minor": 0
      },
      "text/plain": [
       "HBox(children=(HTML(value=''), FloatProgress(value=0.0, max=10.0), HTML(value='')))"
      ]
     },
     "metadata": {},
     "output_type": "display_data"
    },
    {
     "name": "stdout",
     "output_type": "stream",
     "text": [
      "--- average score ---\n",
      "  K:         3.0\n",
      "  f_measure: 0.9123585212839016\n",
      "  ARI:       0.7434419467778124\n",
      "\n",
      "[beetles]\n"
     ]
    },
    {
     "data": {
      "application/vnd.jupyter.widget-view+json": {
       "model_id": "",
       "version_major": 2,
       "version_minor": 0
      },
      "text/plain": [
       "HBox(children=(HTML(value=''), FloatProgress(value=0.0, max=10.0), HTML(value='')))"
      ]
     },
     "metadata": {},
     "output_type": "display_data"
    },
    {
     "name": "stdout",
     "output_type": "stream",
     "text": [
      "--- average score ---\n",
      "  K:         2.6\n",
      "  f_measure: 0.8048430417995636\n",
      "  ARI:       0.6026185376664845\n",
      "\n",
      "[crabs]\n"
     ]
    },
    {
     "data": {
      "application/vnd.jupyter.widget-view+json": {
       "model_id": "",
       "version_major": 2,
       "version_minor": 0
      },
      "text/plain": [
       "HBox(children=(HTML(value=''), FloatProgress(value=0.0, max=10.0), HTML(value='')))"
      ]
     },
     "metadata": {},
     "output_type": "display_data"
    },
    {
     "name": "stdout",
     "output_type": "stream",
     "text": [
      "--- average score ---\n",
      "  K:         3.0\n",
      "  f_measure: 0.8100491228070176\n",
      "  ARI:       0.5954506332624884\n",
      "\n",
      "[DLBCL]\n"
     ]
    },
    {
     "data": {
      "application/vnd.jupyter.widget-view+json": {
       "model_id": "",
       "version_major": 2,
       "version_minor": 0
      },
      "text/plain": [
       "HBox(children=(HTML(value=''), FloatProgress(value=0.0, max=10.0), HTML(value='')))"
      ]
     },
     "metadata": {},
     "output_type": "display_data"
    },
    {
     "name": "stdout",
     "output_type": "stream",
     "text": [
      "--- average score ---\n",
      "  K:         6.6\n",
      "  f_measure: 0.73412256107192\n",
      "  ARI:       0.5057601013853614\n",
      "\n",
      "[ecoli]\n"
     ]
    },
    {
     "data": {
      "application/vnd.jupyter.widget-view+json": {
       "model_id": "",
       "version_major": 2,
       "version_minor": 0
      },
      "text/plain": [
       "HBox(children=(HTML(value=''), FloatProgress(value=0.0, max=10.0), HTML(value='')))"
      ]
     },
     "metadata": {},
     "output_type": "display_data"
    },
    {
     "name": "stdout",
     "output_type": "stream",
     "text": [
      "--- average score ---\n",
      "  K:         4.0\n",
      "  f_measure: 0.7872715346245572\n",
      "  ARI:       0.5896236630278274\n",
      "\n",
      "[seeds]\n"
     ]
    },
    {
     "data": {
      "application/vnd.jupyter.widget-view+json": {
       "model_id": "",
       "version_major": 2,
       "version_minor": 0
      },
      "text/plain": [
       "HBox(children=(HTML(value=''), FloatProgress(value=0.0, max=10.0), HTML(value='')))"
      ]
     },
     "metadata": {},
     "output_type": "display_data"
    },
    {
     "name": "stdout",
     "output_type": "stream",
     "text": [
      "--- average score ---\n",
      "  K:         2.0\n",
      "  f_measure: 0.7938342967244701\n",
      "  ARI:       0.5422444052734889\n",
      "\n",
      "[wisconsin]\n"
     ]
    },
    {
     "data": {
      "application/vnd.jupyter.widget-view+json": {
       "model_id": "",
       "version_major": 2,
       "version_minor": 0
      },
      "text/plain": [
       "HBox(children=(HTML(value=''), FloatProgress(value=0.0, max=10.0), HTML(value='')))"
      ]
     },
     "metadata": {},
     "output_type": "display_data"
    },
    {
     "name": "stdout",
     "output_type": "stream",
     "text": [
      "--- average score ---\n",
      "  K:         3.0\n",
      "  f_measure: 0.8571248492632101\n",
      "  ARI:       0.6168833014070565\n",
      "\n",
      "[yeast]\n"
     ]
    },
    {
     "data": {
      "application/vnd.jupyter.widget-view+json": {
       "model_id": "",
       "version_major": 2,
       "version_minor": 0
      },
      "text/plain": [
       "HBox(children=(HTML(value=''), FloatProgress(value=0.0, max=10.0), HTML(value='')))"
      ]
     },
     "metadata": {},
     "output_type": "display_data"
    },
    {
     "name": "stdout",
     "output_type": "stream",
     "text": [
      "--- average score ---\n",
      "  K:         3.5\n",
      "  f_measure: 0.8635955057743191\n",
      "  ARI:       0.5162198364478092\n",
      "\n"
     ]
    }
   ],
   "source": [
    "for data_name in ['AIS', 'beetles', 'crabs', 'DLBCL', 'ecoli', 'seeds', 'wisconsin', 'yeast']:\n",
    "    print(f'[{data_name}]')\n",
    "    experiment_gmm_bic(data_name, repeat=10)\n",
    "    print('')"
   ]
  },
  {
   "cell_type": "markdown",
   "metadata": {},
   "source": [
    "# GMM + DNML"
   ]
  },
  {
   "cell_type": "code",
   "execution_count": 21,
   "metadata": {},
   "outputs": [],
   "source": [
    "def experiment_gmm_dnml(data_name, repeat=10):\n",
    "    \n",
    "    X, Z_true = load_data(data_name, scaling=True)\n",
    "    \n",
    "    def one_trial(seed):\n",
    "        gmm = GMMModelSelection(K_max=10, mode='GMM_DNML', random_state=seed, tol=1e-3)\n",
    "        gmm.fit(X)\n",
    "        Z_pred = gmm.predict(X)\n",
    "        K_ = gmm.K_\n",
    "        f_measure_ = f_measure(Z_true, Z_pred)\n",
    "        ari_ = ari(Z_true, Z_pred)\n",
    "\n",
    "        return K_, f_measure_, ari_\n",
    "\n",
    "    K_list = []\n",
    "    f_measure_list = []\n",
    "    ari_list = []\n",
    "\n",
    "    for t in tqdm(range(repeat), leave=False):\n",
    "        K_, f_measure_, ari_ = one_trial(seed=t)\n",
    "        K_list.append(K_)\n",
    "        f_measure_list.append(f_measure_)\n",
    "        ari_list.append(ari_)\n",
    "\n",
    "    print('--- average score ---')\n",
    "    print(f'  K:         {np.mean(K_list)}')\n",
    "    print(f'  f_measure: {np.mean(f_measure_list)}')\n",
    "    print(f'  ARI:       {np.mean(ari_list)}')"
   ]
  },
  {
   "cell_type": "code",
   "execution_count": 22,
   "metadata": {},
   "outputs": [
    {
     "name": "stdout",
     "output_type": "stream",
     "text": [
      "[AIS]\n"
     ]
    },
    {
     "data": {
      "application/vnd.jupyter.widget-view+json": {
       "model_id": "",
       "version_major": 2,
       "version_minor": 0
      },
      "text/plain": [
       "HBox(children=(HTML(value=''), FloatProgress(value=0.0, max=10.0), HTML(value='')))"
      ]
     },
     "metadata": {},
     "output_type": "display_data"
    },
    {
     "name": "stdout",
     "output_type": "stream",
     "text": [
      "--- average score ---\n",
      "  K:         1.0\n",
      "  f_measure: 0.6710526315789472\n",
      "  ARI:       0.0\n",
      "\n",
      "[beetles]\n"
     ]
    },
    {
     "data": {
      "application/vnd.jupyter.widget-view+json": {
       "model_id": "",
       "version_major": 2,
       "version_minor": 0
      },
      "text/plain": [
       "HBox(children=(HTML(value=''), FloatProgress(value=0.0, max=10.0), HTML(value='')))"
      ]
     },
     "metadata": {},
     "output_type": "display_data"
    },
    {
     "name": "stdout",
     "output_type": "stream",
     "text": [
      "--- average score ---\n",
      "  K:         1.0\n",
      "  f_measure: 0.5904761904761904\n",
      "  ARI:       0.0\n",
      "\n",
      "[crabs]\n"
     ]
    },
    {
     "data": {
      "application/vnd.jupyter.widget-view+json": {
       "model_id": "",
       "version_major": 2,
       "version_minor": 0
      },
      "text/plain": [
       "HBox(children=(HTML(value=''), FloatProgress(value=0.0, max=10.0), HTML(value='')))"
      ]
     },
     "metadata": {},
     "output_type": "display_data"
    },
    {
     "name": "stdout",
     "output_type": "stream",
     "text": [
      "--- average score ---\n",
      "  K:         1.0\n",
      "  f_measure: 0.4\n",
      "  ARI:       0.0\n",
      "\n",
      "[DLBCL]\n"
     ]
    },
    {
     "data": {
      "application/vnd.jupyter.widget-view+json": {
       "model_id": "",
       "version_major": 2,
       "version_minor": 0
      },
      "text/plain": [
       "HBox(children=(HTML(value=''), FloatProgress(value=0.0, max=10.0), HTML(value='')))"
      ]
     },
     "metadata": {},
     "output_type": "display_data"
    },
    {
     "name": "stdout",
     "output_type": "stream",
     "text": [
      "--- average score ---\n",
      "  K:         2.8\n",
      "  f_measure: 0.9028187107166232\n",
      "  ARI:       0.8695546900271685\n",
      "\n",
      "[ecoli]\n"
     ]
    },
    {
     "data": {
      "application/vnd.jupyter.widget-view+json": {
       "model_id": "",
       "version_major": 2,
       "version_minor": 0
      },
      "text/plain": [
       "HBox(children=(HTML(value=''), FloatProgress(value=0.0, max=10.0), HTML(value='')))"
      ]
     },
     "metadata": {},
     "output_type": "display_data"
    },
    {
     "name": "stdout",
     "output_type": "stream",
     "text": [
      "--- average score ---\n",
      "  K:         4.0\n",
      "  f_measure: 0.7872715346245572\n",
      "  ARI:       0.5896236630278274\n",
      "\n",
      "[seeds]\n"
     ]
    },
    {
     "data": {
      "application/vnd.jupyter.widget-view+json": {
       "model_id": "",
       "version_major": 2,
       "version_minor": 0
      },
      "text/plain": [
       "HBox(children=(HTML(value=''), FloatProgress(value=0.0, max=10.0), HTML(value='')))"
      ]
     },
     "metadata": {},
     "output_type": "display_data"
    },
    {
     "name": "stdout",
     "output_type": "stream",
     "text": [
      "--- average score ---\n",
      "  K:         1.0\n",
      "  f_measure: 0.5\n",
      "  ARI:       0.0\n",
      "\n",
      "[wisconsin]\n"
     ]
    },
    {
     "data": {
      "application/vnd.jupyter.widget-view+json": {
       "model_id": "",
       "version_major": 2,
       "version_minor": 0
      },
      "text/plain": [
       "HBox(children=(HTML(value=''), FloatProgress(value=0.0, max=10.0), HTML(value='')))"
      ]
     },
     "metadata": {},
     "output_type": "display_data"
    },
    {
     "name": "stdout",
     "output_type": "stream",
     "text": [
      "--- average score ---\n",
      "  K:         2.0\n",
      "  f_measure: 0.9142355008787346\n",
      "  ARI:       0.6851456109359129\n",
      "\n",
      "[yeast]\n"
     ]
    },
    {
     "data": {
      "application/vnd.jupyter.widget-view+json": {
       "model_id": "",
       "version_major": 2,
       "version_minor": 0
      },
      "text/plain": [
       "HBox(children=(HTML(value=''), FloatProgress(value=0.0, max=10.0), HTML(value='')))"
      ]
     },
     "metadata": {},
     "output_type": "display_data"
    },
    {
     "name": "stdout",
     "output_type": "stream",
     "text": [
      "--- average score ---\n",
      "  K:         1.0\n",
      "  f_measure: 0.8503213957759412\n",
      "  ARI:       0.0\n",
      "\n"
     ]
    }
   ],
   "source": [
    "for data_name in ['AIS', 'beetles', 'crabs', 'DLBCL', 'ecoli', 'seeds', 'wisconsin', 'yeast']:\n",
    "    print(f'[{data_name}]')\n",
    "    experiment_gmm_dnml(data_name, repeat=10)\n",
    "    print('')"
   ]
  },
  {
   "cell_type": "markdown",
   "metadata": {},
   "source": [
    "# MixMix"
   ]
  },
  {
   "cell_type": "code",
   "execution_count": 4,
   "metadata": {},
   "outputs": [],
   "source": [
    "def experiment_mixmix(data_name, K, L, is_dlbcl, repeat=10):\n",
    "    \n",
    "    X, Z_true = load_data(data_name, scaling=True)\n",
    "    \n",
    "    def one_trial(seed):\n",
    "        mixmix = MixtureOfMixture(K=K, L=L, M=4000, burnin=4000, is_dlbcl=is_dlbcl, random_state=seed)\n",
    "        mixmix.fit(X)\n",
    "        K_ = mixmix.K_pred_\n",
    "        Z_pred = mixmix.Z_pred_\n",
    "        if Z_pred is None:\n",
    "            Z_pred = np.zeros(len(X), dtype=int)\n",
    "        f_measure_ = f_measure(Z_true, Z_pred)\n",
    "        ari_ = ari(Z_true, Z_pred)\n",
    "\n",
    "        return K_, f_measure_, ari_\n",
    "\n",
    "    K_list = []\n",
    "    f_measure_list = []\n",
    "    ari_list = []\n",
    "\n",
    "    for t in tqdm(range(repeat), leave=False):\n",
    "        K_, f_measure_, ari_ = one_trial(seed=t)\n",
    "        K_list.append(K_)\n",
    "        f_measure_list.append(f_measure_)\n",
    "        ari_list.append(ari_)\n",
    "\n",
    "    print('--- average score ---')\n",
    "    print(f'  K:         {np.mean(K_list)}')\n",
    "    print(f'  f_measure: {np.mean(f_measure_list)}')\n",
    "    print(f'  ARI:       {np.mean(ari_list)}')"
   ]
  },
  {
   "cell_type": "code",
   "execution_count": 7,
   "metadata": {},
   "outputs": [
    {
     "name": "stdout",
     "output_type": "stream",
     "text": [
      "[AIS]\n"
     ]
    },
    {
     "data": {
      "application/vnd.jupyter.widget-view+json": {
       "model_id": "",
       "version_major": 2,
       "version_minor": 0
      },
      "text/plain": [
       "HBox(children=(HTML(value=''), FloatProgress(value=0.0, max=10.0), HTML(value='')))"
      ]
     },
     "metadata": {},
     "output_type": "display_data"
    },
    {
     "name": "stdout",
     "output_type": "stream",
     "text": [
      "--- average score ---\n",
      "  K:         2.7\n",
      "  f_measure: 0.9250210267952381\n",
      "  ARI:       0.751080268051184\n",
      "\n",
      "[beetles]\n"
     ]
    },
    {
     "data": {
      "application/vnd.jupyter.widget-view+json": {
       "model_id": "",
       "version_major": 2,
       "version_minor": 0
      },
      "text/plain": [
       "HBox(children=(HTML(value=''), FloatProgress(value=0.0, max=10.0), HTML(value='')))"
      ]
     },
     "metadata": {},
     "output_type": "display_data"
    },
    {
     "name": "stdout",
     "output_type": "stream",
     "text": [
      "--- average score ---\n",
      "  K:         1.1\n",
      "  f_measure: 0.6368601404886418\n",
      "  ARI:       0.1104538206148786\n",
      "\n",
      "[crabs]\n"
     ]
    },
    {
     "data": {
      "application/vnd.jupyter.widget-view+json": {
       "model_id": "",
       "version_major": 2,
       "version_minor": 0
      },
      "text/plain": [
       "HBox(children=(HTML(value=''), FloatProgress(value=0.0, max=10.0), HTML(value='')))"
      ]
     },
     "metadata": {},
     "output_type": "display_data"
    },
    {
     "name": "stdout",
     "output_type": "stream",
     "text": [
      "--- average score ---\n",
      "  K:         1.0\n",
      "  f_measure: 0.4\n",
      "  ARI:       0.0\n",
      "\n",
      "[DLBCL]\n"
     ]
    },
    {
     "data": {
      "application/vnd.jupyter.widget-view+json": {
       "model_id": "",
       "version_major": 2,
       "version_minor": 0
      },
      "text/plain": [
       "HBox(children=(HTML(value=''), FloatProgress(value=0.0, max=10.0), HTML(value='')))"
      ]
     },
     "metadata": {},
     "output_type": "display_data"
    },
    {
     "name": "stdout",
     "output_type": "stream",
     "text": [
      "--- average score ---\n",
      "  K:         7.4\n",
      "  f_measure: 0.7606064523219048\n",
      "  ARI:       0.5013456399329312\n",
      "\n",
      "[ecoli]\n"
     ]
    },
    {
     "data": {
      "application/vnd.jupyter.widget-view+json": {
       "model_id": "",
       "version_major": 2,
       "version_minor": 0
      },
      "text/plain": [
       "HBox(children=(HTML(value=''), FloatProgress(value=0.0, max=10.0), HTML(value='')))"
      ]
     },
     "metadata": {},
     "output_type": "display_data"
    },
    {
     "name": "stdout",
     "output_type": "stream",
     "text": [
      "--- average score ---\n",
      "  K:         4.3\n",
      "  f_measure: 0.7935108671940744\n",
      "  ARI:       0.5487520100902774\n",
      "\n",
      "[seeds]\n"
     ]
    },
    {
     "data": {
      "application/vnd.jupyter.widget-view+json": {
       "model_id": "",
       "version_major": 2,
       "version_minor": 0
      },
      "text/plain": [
       "HBox(children=(HTML(value=''), FloatProgress(value=0.0, max=10.0), HTML(value='')))"
      ]
     },
     "metadata": {},
     "output_type": "display_data"
    },
    {
     "name": "stdout",
     "output_type": "stream",
     "text": [
      "--- average score ---\n",
      "  K:         3.2\n",
      "  f_measure: 0.8491764300500689\n",
      "  ARI:       0.622642625008173\n",
      "\n",
      "[wisconsin]\n"
     ]
    },
    {
     "data": {
      "application/vnd.jupyter.widget-view+json": {
       "model_id": "",
       "version_major": 2,
       "version_minor": 0
      },
      "text/plain": [
       "HBox(children=(HTML(value=''), FloatProgress(value=0.0, max=10.0), HTML(value='')))"
      ]
     },
     "metadata": {},
     "output_type": "display_data"
    },
    {
     "name": "stdout",
     "output_type": "stream",
     "text": [
      "--- average score ---\n",
      "  K:         2.1\n",
      "  f_measure: 0.947312032784007\n",
      "  ARI:       0.7986272353153039\n",
      "\n",
      "[yeast]\n"
     ]
    },
    {
     "data": {
      "application/vnd.jupyter.widget-view+json": {
       "model_id": "",
       "version_major": 2,
       "version_minor": 0
      },
      "text/plain": [
       "HBox(children=(HTML(value=''), FloatProgress(value=0.0, max=10.0), HTML(value='')))"
      ]
     },
     "metadata": {},
     "output_type": "display_data"
    },
    {
     "name": "stdout",
     "output_type": "stream",
     "text": [
      "--- average score ---\n",
      "  K:         2.7\n",
      "  f_measure: 0.911456123509837\n",
      "  ARI:       0.5885335441109534\n",
      "\n"
     ]
    }
   ],
   "source": [
    "for data_name in ['AIS', 'beetles', 'crabs', 'DLBCL', 'ecoli', 'seeds', 'wisconsin', 'yeast']:\n",
    "    if data_name == 'DLBCL':\n",
    "        K = 30\n",
    "        L = 15\n",
    "        is_dlbcl = True\n",
    "    else:\n",
    "        K = 10\n",
    "        L = 5\n",
    "        is_dlbcl = False\n",
    "    print(f'[{data_name}]')\n",
    "    experiment_mixmix(data_name, K=K, L=L, is_dlbcl=is_dlbcl, repeat=10)\n",
    "    print('')"
   ]
  },
  {
   "cell_type": "markdown",
   "metadata": {},
   "source": [
    "# Merge Components"
   ]
  },
  {
   "cell_type": "code",
   "execution_count": 6,
   "metadata": {},
   "outputs": [],
   "source": [
    "def experiment_merge(data_name, algorithm_class, repeat=10):\n",
    "\n",
    "    X, Z_true = load_data(data_name, scaling=True)\n",
    "    \n",
    "    def one_trial(seed):\n",
    "        gmm = GMMModelSelection(K_max=20, mode='BGMM', weight_concentration_prior=0.1, random_state=seed, tol=1e-3)\n",
    "        gmm.fit(X)\n",
    "        prob_0 = gmm.prob_latent(X)\n",
    "\n",
    "        # delete 0 prob\n",
    "        prob_0 = np.delete(prob_0, (np.sum(prob_0, axis=0) < 1e-50), axis=1)\n",
    "        prob_0 = prob_0 / np.sum(prob_0, axis=1).reshape((-1, 1))\n",
    "\n",
    "        # merge\n",
    "        algorithm = algorithm_class()\n",
    "        algorithm.fit(prob_0)\n",
    "\n",
    "        f_measure_list = []\n",
    "        ari_list = []\n",
    "        \n",
    "        for K in range(1, prob_0.shape[1] + 1):\n",
    "            Z_pred = np.argmax(algorithm.prob_merged(prob_0, K_merged=K), axis=1)\n",
    "            ari_list.append(ari(Z_true, Z_pred))\n",
    "            f_measure_list.append(f_measure(Z_true, Z_pred))\n",
    "\n",
    "        K_best_f_measure = np.argmax(f_measure_list) + 1\n",
    "        f_measure_best = max(f_measure_list)\n",
    "        K_best_ari = np.argmax(ari_list) + 1\n",
    "        ari_best = max(ari_list)\n",
    "        K_nmc = algorithm.K_nmc_\n",
    "        f_measure_nmc = f_measure_list[K_nmc - 1]\n",
    "        ari_nmc = ari_list[K_nmc - 1]\n",
    "\n",
    "        return K_best_f_measure, f_measure_best, K_best_ari, ari_best, K_nmc, f_measure_nmc, ari_nmc\n",
    "\n",
    "    K_best_f_measure_list = []\n",
    "    f_measure_best_list = []\n",
    "    K_best_ari_list = []\n",
    "    ari_best_list = []\n",
    "    K_nmc_list = []\n",
    "    f_measure_nmc_list = []\n",
    "    ari_nmc_list = []\n",
    "\n",
    "    for t in tqdm(range(repeat), leave=False):\n",
    "        K_best_f_measure, f_measure_best, K_best_ari, ari_best, K_nmc, f_measure_nmc, ari_nmc = one_trial(seed=t)\n",
    "        K_best_f_measure_list.append(K_best_f_measure)\n",
    "        f_measure_best_list.append(f_measure_best)\n",
    "        K_best_ari_list.append(K_best_ari)\n",
    "        ari_best_list.append(ari_best)\n",
    "        K_nmc_list.append(K_nmc)\n",
    "        f_measure_nmc_list.append(f_measure_nmc)\n",
    "        ari_nmc_list.append(ari_nmc)\n",
    "\n",
    "    print('--- average score ---')\n",
    "    print('  best')\n",
    "    print(f'    f_measure (K):  {np.mean(f_measure_best_list)} ({np.mean(K_best_f_measure_list)})')\n",
    "    print(f'    ARI (K):        {np.mean(ari_best_list)} ({np.mean(K_best_ari_list)})')\n",
    "    print('  NMC')\n",
    "    print(f'    K:         {np.mean(K_nmc_list)}')\n",
    "    print(f'    f_measure: {np.mean(f_measure_nmc_list)}')\n",
    "    print(f'    ARI:       {np.mean(ari_nmc_list)}')"
   ]
  },
  {
   "cell_type": "markdown",
   "metadata": {},
   "source": [
    "## Ent"
   ]
  },
  {
   "cell_type": "code",
   "execution_count": 7,
   "metadata": {},
   "outputs": [
    {
     "name": "stdout",
     "output_type": "stream",
     "text": [
      "[AIS]\n"
     ]
    },
    {
     "data": {
      "application/vnd.jupyter.widget-view+json": {
       "model_id": "",
       "version_major": 2,
       "version_minor": 0
      },
      "text/plain": [
       "HBox(children=(HTML(value=''), FloatProgress(value=0.0, max=10.0), HTML(value='')))"
      ]
     },
     "metadata": {},
     "output_type": "display_data"
    },
    {
     "name": "stdout",
     "output_type": "stream",
     "text": [
      "--- average score ---\n",
      "  best\n",
      "    f_measure (K):  0.9156007492641155 (18.0)\n",
      "    ARI (K):        0.700465529867522 (19.0)\n",
      "  NMC\n",
      "    K:         19.0\n",
      "    f_measure: 0.8915827870875731\n",
      "    ARI:       0.700465529867522\n",
      "\n",
      "[beetles]\n"
     ]
    },
    {
     "data": {
      "application/vnd.jupyter.widget-view+json": {
       "model_id": "",
       "version_major": 2,
       "version_minor": 0
      },
      "text/plain": [
       "HBox(children=(HTML(value=''), FloatProgress(value=0.0, max=10.0), HTML(value='')))"
      ]
     },
     "metadata": {},
     "output_type": "display_data"
    },
    {
     "name": "stdout",
     "output_type": "stream",
     "text": [
      "--- average score ---\n",
      "  best\n",
      "    f_measure (K):  0.9864864864864863 (20.0)\n",
      "    ARI (K):        0.9577751286738053 (20.0)\n",
      "  NMC\n",
      "    K:         20.0\n",
      "    f_measure: 0.9864864864864863\n",
      "    ARI:       0.9577751286738053\n",
      "\n",
      "[crabs]\n"
     ]
    },
    {
     "data": {
      "application/vnd.jupyter.widget-view+json": {
       "model_id": "",
       "version_major": 2,
       "version_minor": 0
      },
      "text/plain": [
       "HBox(children=(HTML(value=''), FloatProgress(value=0.0, max=10.0), HTML(value='')))"
      ]
     },
     "metadata": {},
     "output_type": "display_data"
    },
    {
     "name": "stdout",
     "output_type": "stream",
     "text": [
      "--- average score ---\n",
      "  best\n",
      "    f_measure (K):  0.8655653052611327 (19.1)\n",
      "    ARI (K):        0.7069945135356266 (19.4)\n",
      "  NMC\n",
      "    K:         17.8\n",
      "    f_measure: 0.821852830112954\n",
      "    ARI:       0.6264898645018905\n",
      "\n",
      "[DLBCL]\n"
     ]
    },
    {
     "data": {
      "application/vnd.jupyter.widget-view+json": {
       "model_id": "",
       "version_major": 2,
       "version_minor": 0
      },
      "text/plain": [
       "HBox(children=(HTML(value=''), FloatProgress(value=0.0, max=10.0), HTML(value='')))"
      ]
     },
     "metadata": {},
     "output_type": "display_data"
    },
    {
     "name": "stdout",
     "output_type": "stream",
     "text": [
      "--- average score ---\n",
      "  best\n",
      "    f_measure (K):  0.9305769504935579 (17.6)\n",
      "    ARI (K):        0.9127728790626739 (17.6)\n",
      "  NMC\n",
      "    K:         17.6\n",
      "    f_measure: 0.9305769504935579\n",
      "    ARI:       0.9127728790626739\n",
      "\n",
      "[ecoli]\n"
     ]
    },
    {
     "data": {
      "application/vnd.jupyter.widget-view+json": {
       "model_id": "",
       "version_major": 2,
       "version_minor": 0
      },
      "text/plain": [
       "HBox(children=(HTML(value=''), FloatProgress(value=0.0, max=10.0), HTML(value='')))"
      ]
     },
     "metadata": {},
     "output_type": "display_data"
    },
    {
     "name": "stdout",
     "output_type": "stream",
     "text": [
      "--- average score ---\n",
      "  best\n",
      "    f_measure (K):  0.8738386328508442 (19.0)\n",
      "    ARI (K):        0.7593004361753439 (19.0)\n",
      "  NMC\n",
      "    K:         19.0\n",
      "    f_measure: 0.8738386328508442\n",
      "    ARI:       0.7593004361753439\n",
      "\n",
      "[seeds]\n"
     ]
    },
    {
     "data": {
      "application/vnd.jupyter.widget-view+json": {
       "model_id": "",
       "version_major": 2,
       "version_minor": 0
      },
      "text/plain": [
       "HBox(children=(HTML(value=''), FloatProgress(value=0.0, max=10.0), HTML(value='')))"
      ]
     },
     "metadata": {},
     "output_type": "display_data"
    },
    {
     "name": "stdout",
     "output_type": "stream",
     "text": [
      "--- average score ---\n",
      "  best\n",
      "    f_measure (K):  0.9001411175835157 (19.4)\n",
      "    ARI (K):        0.7674084622578142 (19.4)\n",
      "  NMC\n",
      "    K:         18.1\n",
      "    f_measure: 0.8517249539537453\n",
      "    ARI:       0.6573357932829067\n",
      "\n",
      "[wisconsin]\n"
     ]
    },
    {
     "data": {
      "application/vnd.jupyter.widget-view+json": {
       "model_id": "",
       "version_major": 2,
       "version_minor": 0
      },
      "text/plain": [
       "HBox(children=(HTML(value=''), FloatProgress(value=0.0, max=10.0), HTML(value='')))"
      ]
     },
     "metadata": {},
     "output_type": "display_data"
    },
    {
     "name": "stdout",
     "output_type": "stream",
     "text": [
      "--- average score ---\n",
      "  best\n",
      "    f_measure (K):  0.8973337213961358 (19.2)\n",
      "    ARI (K):        0.6878726999962621 (19.2)\n",
      "  NMC\n",
      "    K:         19.2\n",
      "    f_measure: 0.8973337213961358\n",
      "    ARI:       0.6878726999962621\n",
      "\n",
      "[yeast]\n"
     ]
    },
    {
     "data": {
      "application/vnd.jupyter.widget-view+json": {
       "model_id": "",
       "version_major": 2,
       "version_minor": 0
      },
      "text/plain": [
       "HBox(children=(HTML(value=''), FloatProgress(value=0.0, max=10.0), HTML(value='')))"
      ]
     },
     "metadata": {},
     "output_type": "display_data"
    },
    {
     "name": "stdout",
     "output_type": "stream",
     "text": [
      "--- average score ---\n",
      "  best\n",
      "    f_measure (K):  0.8665975839435079 (18.6)\n",
      "    ARI (K):        0.508306379559955 (18.6)\n",
      "  NMC\n",
      "    K:         18.6\n",
      "    f_measure: 0.8665975839435079\n",
      "    ARI:       0.508306379559955\n",
      "\n"
     ]
    }
   ],
   "source": [
    "for data_name in ['AIS', 'beetles', 'crabs', 'DLBCL', 'ecoli', 'seeds', 'wisconsin', 'yeast']:\n",
    "    print(f'[{data_name}]')\n",
    "    experiment_merge(data_name, algorithm_class=EntMergeComponents, repeat=10)\n",
    "    print('')"
   ]
  },
  {
   "cell_type": "markdown",
   "metadata": {},
   "source": [
    "## NEnt1"
   ]
  },
  {
   "cell_type": "code",
   "execution_count": 8,
   "metadata": {},
   "outputs": [
    {
     "name": "stdout",
     "output_type": "stream",
     "text": [
      "[AIS]\n"
     ]
    },
    {
     "data": {
      "application/vnd.jupyter.widget-view+json": {
       "model_id": "",
       "version_major": 2,
       "version_minor": 0
      },
      "text/plain": [
       "HBox(children=(HTML(value=''), FloatProgress(value=0.0, max=10.0), HTML(value='')))"
      ]
     },
     "metadata": {},
     "output_type": "display_data"
    },
    {
     "name": "stdout",
     "output_type": "stream",
     "text": [
      "--- average score ---\n",
      "  best\n",
      "    f_measure (K):  0.9009900990099009 (2.0)\n",
      "    ARI (K):        0.7010754158738216 (3.0)\n",
      "  NMC\n",
      "    K:         4.0\n",
      "    f_measure: 0.8915827870875731\n",
      "    ARI:       0.700465529867522\n",
      "\n",
      "[beetles]\n"
     ]
    },
    {
     "data": {
      "application/vnd.jupyter.widget-view+json": {
       "model_id": "",
       "version_major": 2,
       "version_minor": 0
      },
      "text/plain": [
       "HBox(children=(HTML(value=''), FloatProgress(value=0.0, max=10.0), HTML(value='')))"
      ]
     },
     "metadata": {},
     "output_type": "display_data"
    },
    {
     "name": "stdout",
     "output_type": "stream",
     "text": [
      "--- average score ---\n",
      "  best\n",
      "    f_measure (K):  0.9864864864864863 (3.0)\n",
      "    ARI (K):        0.9577751286738053 (3.0)\n",
      "  NMC\n",
      "    K:         3.0\n",
      "    f_measure: 0.9864864864864863\n",
      "    ARI:       0.9577751286738053\n",
      "\n",
      "[crabs]\n"
     ]
    },
    {
     "data": {
      "application/vnd.jupyter.widget-view+json": {
       "model_id": "",
       "version_major": 2,
       "version_minor": 0
      },
      "text/plain": [
       "HBox(children=(HTML(value=''), FloatProgress(value=0.0, max=10.0), HTML(value='')))"
      ]
     },
     "metadata": {},
     "output_type": "display_data"
    },
    {
     "name": "stdout",
     "output_type": "stream",
     "text": [
      "--- average score ---\n",
      "  best\n",
      "    f_measure (K):  0.888837136020566 (5.7)\n",
      "    ARI (K):        0.7392607708647603 (5.7)\n",
      "  NMC\n",
      "    K:         3.6\n",
      "    f_measure: 0.8276826800382494\n",
      "    ARI:       0.6417765741406162\n",
      "\n",
      "[DLBCL]\n"
     ]
    },
    {
     "data": {
      "application/vnd.jupyter.widget-view+json": {
       "model_id": "",
       "version_major": 2,
       "version_minor": 0
      },
      "text/plain": [
       "HBox(children=(HTML(value=''), FloatProgress(value=0.0, max=10.0), HTML(value='')))"
      ]
     },
     "metadata": {},
     "output_type": "display_data"
    },
    {
     "name": "stdout",
     "output_type": "stream",
     "text": [
      "--- average score ---\n",
      "  best\n",
      "    f_measure (K):  0.9217074431770907 (10.2)\n",
      "    ARI (K):        0.8516782106050738 (3.2)\n",
      "  NMC\n",
      "    K:         6.9\n",
      "    f_measure: 0.9048796947920265\n",
      "    ARI:       0.833820652289333\n",
      "\n",
      "[ecoli]\n"
     ]
    },
    {
     "data": {
      "application/vnd.jupyter.widget-view+json": {
       "model_id": "",
       "version_major": 2,
       "version_minor": 0
      },
      "text/plain": [
       "HBox(children=(HTML(value=''), FloatProgress(value=0.0, max=10.0), HTML(value='')))"
      ]
     },
     "metadata": {},
     "output_type": "display_data"
    },
    {
     "name": "stdout",
     "output_type": "stream",
     "text": [
      "--- average score ---\n",
      "  best\n",
      "    f_measure (K):  0.8603257661917023 (8.9)\n",
      "    ARI (K):        0.718582565760888 (7.0)\n",
      "  NMC\n",
      "    K:         4.7\n",
      "    f_measure: 0.822830022148327\n",
      "    ARI:       0.6382520061151169\n",
      "\n",
      "[seeds]\n"
     ]
    },
    {
     "data": {
      "application/vnd.jupyter.widget-view+json": {
       "model_id": "",
       "version_major": 2,
       "version_minor": 0
      },
      "text/plain": [
       "HBox(children=(HTML(value=''), FloatProgress(value=0.0, max=10.0), HTML(value='')))"
      ]
     },
     "metadata": {},
     "output_type": "display_data"
    },
    {
     "name": "stdout",
     "output_type": "stream",
     "text": [
      "--- average score ---\n",
      "  best\n",
      "    f_measure (K):  0.9277171259505603 (6.7)\n",
      "    ARI (K):        0.8103395252157997 (6.7)\n",
      "  NMC\n",
      "    K:         4.9\n",
      "    f_measure: 0.8215661977789328\n",
      "    ARI:       0.5941039444059877\n",
      "\n",
      "[wisconsin]\n"
     ]
    },
    {
     "data": {
      "application/vnd.jupyter.widget-view+json": {
       "model_id": "",
       "version_major": 2,
       "version_minor": 0
      },
      "text/plain": [
       "HBox(children=(HTML(value=''), FloatProgress(value=0.0, max=10.0), HTML(value='')))"
      ]
     },
     "metadata": {},
     "output_type": "display_data"
    },
    {
     "name": "stdout",
     "output_type": "stream",
     "text": [
      "--- average score ---\n",
      "  best\n",
      "    f_measure (K):  0.904137125875317 (5.3)\n",
      "    ARI (K):        0.6880454633823212 (5.3)\n",
      "  NMC\n",
      "    K:         5.6\n",
      "    f_measure: 0.904137125875317\n",
      "    ARI:       0.6880430501108991\n",
      "\n",
      "[yeast]\n"
     ]
    },
    {
     "data": {
      "application/vnd.jupyter.widget-view+json": {
       "model_id": "",
       "version_major": 2,
       "version_minor": 0
      },
      "text/plain": [
       "HBox(children=(HTML(value=''), FloatProgress(value=0.0, max=10.0), HTML(value='')))"
      ]
     },
     "metadata": {},
     "output_type": "display_data"
    },
    {
     "name": "stdout",
     "output_type": "stream",
     "text": [
      "--- average score ---\n",
      "  best\n",
      "    f_measure (K):  0.8681326623305854 (8.8)\n",
      "    ARI (K):        0.5107536455676865 (8.8)\n",
      "  NMC\n",
      "    K:         8.9\n",
      "    f_measure: 0.867650203440351\n",
      "    ARI:       0.510706686380105\n",
      "\n"
     ]
    }
   ],
   "source": [
    "for data_name in ['AIS', 'beetles', 'crabs', 'DLBCL', 'ecoli', 'seeds', 'wisconsin', 'yeast']:\n",
    "    print(f'[{data_name}]')\n",
    "    experiment_merge(data_name, algorithm_class=NEnt1MergeComponents, repeat=10)\n",
    "    print('')"
   ]
  },
  {
   "cell_type": "markdown",
   "metadata": {},
   "source": [
    "## DEMP"
   ]
  },
  {
   "cell_type": "code",
   "execution_count": 9,
   "metadata": {},
   "outputs": [
    {
     "name": "stdout",
     "output_type": "stream",
     "text": [
      "[AIS]\n"
     ]
    },
    {
     "data": {
      "application/vnd.jupyter.widget-view+json": {
       "model_id": "",
       "version_major": 2,
       "version_minor": 0
      },
      "text/plain": [
       "HBox(children=(HTML(value=''), FloatProgress(value=0.0, max=10.0), HTML(value='')))"
      ]
     },
     "metadata": {},
     "output_type": "display_data"
    },
    {
     "name": "stdout",
     "output_type": "stream",
     "text": [
      "--- average score ---\n",
      "  best\n",
      "    f_measure (K):  0.905940594059406 (2.0)\n",
      "    ARI (K):        0.6660528020133615 (2.4)\n",
      "  NMC\n",
      "    K:         4.8\n",
      "    f_measure: 0.8220002028904956\n",
      "    ARI:       0.5762624156818488\n",
      "\n",
      "[beetles]\n"
     ]
    },
    {
     "data": {
      "application/vnd.jupyter.widget-view+json": {
       "model_id": "",
       "version_major": 2,
       "version_minor": 0
      },
      "text/plain": [
       "HBox(children=(HTML(value=''), FloatProgress(value=0.0, max=10.0), HTML(value='')))"
      ]
     },
     "metadata": {},
     "output_type": "display_data"
    },
    {
     "name": "stdout",
     "output_type": "stream",
     "text": [
      "--- average score ---\n",
      "  best\n",
      "    f_measure (K):  0.9864864864864863 (3.0)\n",
      "    ARI (K):        0.9577751286738053 (3.0)\n",
      "  NMC\n",
      "    K:         3.0\n",
      "    f_measure: 0.9864864864864863\n",
      "    ARI:       0.9577751286738053\n",
      "\n",
      "[crabs]\n"
     ]
    },
    {
     "data": {
      "application/vnd.jupyter.widget-view+json": {
       "model_id": "",
       "version_major": 2,
       "version_minor": 0
      },
      "text/plain": [
       "HBox(children=(HTML(value=''), FloatProgress(value=0.0, max=10.0), HTML(value='')))"
      ]
     },
     "metadata": {},
     "output_type": "display_data"
    },
    {
     "name": "stdout",
     "output_type": "stream",
     "text": [
      "--- average score ---\n",
      "  best\n",
      "    f_measure (K):  0.8772142857142857 (4.3)\n",
      "    ARI (K):        0.7323885283859652 (4.3)\n",
      "  NMC\n",
      "    K:         3.3\n",
      "    f_measure: 0.8226818890546749\n",
      "    ARI:       0.6403250342004727\n",
      "\n",
      "[DLBCL]\n"
     ]
    },
    {
     "data": {
      "application/vnd.jupyter.widget-view+json": {
       "model_id": "",
       "version_major": 2,
       "version_minor": 0
      },
      "text/plain": [
       "HBox(children=(HTML(value=''), FloatProgress(value=0.0, max=10.0), HTML(value='')))"
      ]
     },
     "metadata": {},
     "output_type": "display_data"
    },
    {
     "name": "stdout",
     "output_type": "stream",
     "text": [
      "--- average score ---\n",
      "  best\n",
      "    f_measure (K):  0.9519458016762355 (4.9)\n",
      "    ARI (K):        0.9343119561869788 (4.9)\n",
      "  NMC\n",
      "    K:         9.1\n",
      "    f_measure: 0.7581104137148456\n",
      "    ARI:       0.522906410166817\n",
      "\n",
      "[ecoli]\n"
     ]
    },
    {
     "data": {
      "application/vnd.jupyter.widget-view+json": {
       "model_id": "",
       "version_major": 2,
       "version_minor": 0
      },
      "text/plain": [
       "HBox(children=(HTML(value=''), FloatProgress(value=0.0, max=10.0), HTML(value='')))"
      ]
     },
     "metadata": {},
     "output_type": "display_data"
    },
    {
     "name": "stdout",
     "output_type": "stream",
     "text": [
      "--- average score ---\n",
      "  best\n",
      "    f_measure (K):  0.8736702123255304 (6.2)\n",
      "    ARI (K):        0.7627139409965497 (6.2)\n",
      "  NMC\n",
      "    K:         5.7\n",
      "    f_measure: 0.8672272395519723\n",
      "    ARI:       0.7537966016553759\n",
      "\n",
      "[seeds]\n"
     ]
    },
    {
     "data": {
      "application/vnd.jupyter.widget-view+json": {
       "model_id": "",
       "version_major": 2,
       "version_minor": 0
      },
      "text/plain": [
       "HBox(children=(HTML(value=''), FloatProgress(value=0.0, max=10.0), HTML(value='')))"
      ]
     },
     "metadata": {},
     "output_type": "display_data"
    },
    {
     "name": "stdout",
     "output_type": "stream",
     "text": [
      "--- average score ---\n",
      "  best\n",
      "    f_measure (K):  0.908453802228834 (4.7)\n",
      "    ARI (K):        0.7822831889361379 (4.9)\n",
      "  NMC\n",
      "    K:         5.3\n",
      "    f_measure: 0.8860276811466724\n",
      "    ARI:       0.7281821553809064\n",
      "\n",
      "[wisconsin]\n"
     ]
    },
    {
     "data": {
      "application/vnd.jupyter.widget-view+json": {
       "model_id": "",
       "version_major": 2,
       "version_minor": 0
      },
      "text/plain": [
       "HBox(children=(HTML(value=''), FloatProgress(value=0.0, max=10.0), HTML(value='')))"
      ]
     },
     "metadata": {},
     "output_type": "display_data"
    },
    {
     "name": "stdout",
     "output_type": "stream",
     "text": [
      "--- average score ---\n",
      "  best\n",
      "    f_measure (K):  0.9054204814983139 (3.4)\n",
      "    ARI (K):        0.7338110103818493 (3.6)\n",
      "  NMC\n",
      "    K:         4.4\n",
      "    f_measure: 0.8808457680544798\n",
      "    ARI:       0.6701758247873809\n",
      "\n",
      "[yeast]\n"
     ]
    },
    {
     "data": {
      "application/vnd.jupyter.widget-view+json": {
       "model_id": "",
       "version_major": 2,
       "version_minor": 0
      },
      "text/plain": [
       "HBox(children=(HTML(value=''), FloatProgress(value=0.0, max=10.0), HTML(value='')))"
      ]
     },
     "metadata": {},
     "output_type": "display_data"
    },
    {
     "name": "stdout",
     "output_type": "stream",
     "text": [
      "--- average score ---\n",
      "  best\n",
      "    f_measure (K):  0.9418398979593599 (2.3)\n",
      "    ARI (K):        0.7685689567022634 (2.3)\n",
      "  NMC\n",
      "    K:         8.0\n",
      "    f_measure: 0.8697694985757447\n",
      "    ARI:       0.5143736018282186\n",
      "\n"
     ]
    }
   ],
   "source": [
    "for data_name in ['AIS', 'beetles', 'crabs', 'DLBCL', 'ecoli', 'seeds', 'wisconsin', 'yeast']:\n",
    "    print(f'[{data_name}]')\n",
    "    experiment_merge(data_name, algorithm_class=DEMPMergeComponents, repeat=10)\n",
    "    print('')"
   ]
  },
  {
   "cell_type": "markdown",
   "metadata": {},
   "source": [
    "## DEMP2"
   ]
  },
  {
   "cell_type": "code",
   "execution_count": 10,
   "metadata": {},
   "outputs": [
    {
     "name": "stdout",
     "output_type": "stream",
     "text": [
      "[AIS]\n"
     ]
    },
    {
     "data": {
      "application/vnd.jupyter.widget-view+json": {
       "model_id": "",
       "version_major": 2,
       "version_minor": 0
      },
      "text/plain": [
       "HBox(children=(HTML(value=''), FloatProgress(value=0.0, max=10.0), HTML(value='')))"
      ]
     },
     "metadata": {},
     "output_type": "display_data"
    },
    {
     "name": "stdout",
     "output_type": "stream",
     "text": [
      "--- average score ---\n",
      "  best\n",
      "    f_measure (K):  0.905940594059406 (2.0)\n",
      "    ARI (K):        0.6574496200498213 (2.0)\n",
      "  NMC\n",
      "    K:         5.0\n",
      "    f_measure: 0.8046045568412262\n",
      "    ARI:       0.5452116371354305\n",
      "\n",
      "[beetles]\n"
     ]
    },
    {
     "data": {
      "application/vnd.jupyter.widget-view+json": {
       "model_id": "",
       "version_major": 2,
       "version_minor": 0
      },
      "text/plain": [
       "HBox(children=(HTML(value=''), FloatProgress(value=0.0, max=10.0), HTML(value='')))"
      ]
     },
     "metadata": {},
     "output_type": "display_data"
    },
    {
     "name": "stdout",
     "output_type": "stream",
     "text": [
      "--- average score ---\n",
      "  best\n",
      "    f_measure (K):  0.9864864864864863 (3.0)\n",
      "    ARI (K):        0.9577751286738053 (3.0)\n",
      "  NMC\n",
      "    K:         3.0\n",
      "    f_measure: 0.9864864864864863\n",
      "    ARI:       0.9577751286738053\n",
      "\n",
      "[crabs]\n"
     ]
    },
    {
     "data": {
      "application/vnd.jupyter.widget-view+json": {
       "model_id": "",
       "version_major": 2,
       "version_minor": 0
      },
      "text/plain": [
       "HBox(children=(HTML(value=''), FloatProgress(value=0.0, max=10.0), HTML(value='')))"
      ]
     },
     "metadata": {},
     "output_type": "display_data"
    },
    {
     "name": "stdout",
     "output_type": "stream",
     "text": [
      "--- average score ---\n",
      "  best\n",
      "    f_measure (K):  0.8767142857142858 (4.3)\n",
      "    ARI (K):        0.731282072947511 (4.3)\n",
      "  NMC\n",
      "    K:         3.3\n",
      "    f_measure: 0.8221711391406741\n",
      "    ARI:       0.6387474170073114\n",
      "\n",
      "[DLBCL]\n"
     ]
    },
    {
     "data": {
      "application/vnd.jupyter.widget-view+json": {
       "model_id": "",
       "version_major": 2,
       "version_minor": 0
      },
      "text/plain": [
       "HBox(children=(HTML(value=''), FloatProgress(value=0.0, max=10.0), HTML(value='')))"
      ]
     },
     "metadata": {},
     "output_type": "display_data"
    },
    {
     "name": "stdout",
     "output_type": "stream",
     "text": [
      "--- average score ---\n",
      "  best\n",
      "    f_measure (K):  0.9521476496465281 (4.9)\n",
      "    ARI (K):        0.9356818638508984 (5.0)\n",
      "  NMC\n",
      "    K:         9.2\n",
      "    f_measure: 0.7538627585400122\n",
      "    ARI:       0.5206689280085605\n",
      "\n",
      "[ecoli]\n"
     ]
    },
    {
     "data": {
      "application/vnd.jupyter.widget-view+json": {
       "model_id": "",
       "version_major": 2,
       "version_minor": 0
      },
      "text/plain": [
       "HBox(children=(HTML(value=''), FloatProgress(value=0.0, max=10.0), HTML(value='')))"
      ]
     },
     "metadata": {},
     "output_type": "display_data"
    },
    {
     "name": "stdout",
     "output_type": "stream",
     "text": [
      "--- average score ---\n",
      "  best\n",
      "    f_measure (K):  0.8753903468339616 (5.7)\n",
      "    ARI (K):        0.7631941705657869 (6.1)\n",
      "  NMC\n",
      "    K:         5.7\n",
      "    f_measure: 0.8666676452983191\n",
      "    ARI:       0.7540715691756052\n",
      "\n",
      "[seeds]\n"
     ]
    },
    {
     "data": {
      "application/vnd.jupyter.widget-view+json": {
       "model_id": "",
       "version_major": 2,
       "version_minor": 0
      },
      "text/plain": [
       "HBox(children=(HTML(value=''), FloatProgress(value=0.0, max=10.0), HTML(value='')))"
      ]
     },
     "metadata": {},
     "output_type": "display_data"
    },
    {
     "name": "stdout",
     "output_type": "stream",
     "text": [
      "--- average score ---\n",
      "  best\n",
      "    f_measure (K):  0.9120735136337232 (4.1)\n",
      "    ARI (K):        0.787596719742687 (4.5)\n",
      "  NMC\n",
      "    K:         5.2\n",
      "    f_measure: 0.8921910332781617\n",
      "    ARI:       0.7446941360262593\n",
      "\n",
      "[wisconsin]\n"
     ]
    },
    {
     "data": {
      "application/vnd.jupyter.widget-view+json": {
       "model_id": "",
       "version_major": 2,
       "version_minor": 0
      },
      "text/plain": [
       "HBox(children=(HTML(value=''), FloatProgress(value=0.0, max=10.0), HTML(value='')))"
      ]
     },
     "metadata": {},
     "output_type": "display_data"
    },
    {
     "name": "stdout",
     "output_type": "stream",
     "text": [
      "--- average score ---\n",
      "  best\n",
      "    f_measure (K):  0.9046052837543475 (2.7)\n",
      "    ARI (K):        0.7320021911551049 (2.7)\n",
      "  NMC\n",
      "    K:         3.6\n",
      "    f_measure: 0.8801333909565056\n",
      "    ARI:       0.669698898784691\n",
      "\n",
      "[yeast]\n"
     ]
    },
    {
     "data": {
      "application/vnd.jupyter.widget-view+json": {
       "model_id": "",
       "version_major": 2,
       "version_minor": 0
      },
      "text/plain": [
       "HBox(children=(HTML(value=''), FloatProgress(value=0.0, max=10.0), HTML(value='')))"
      ]
     },
     "metadata": {},
     "output_type": "display_data"
    },
    {
     "name": "stdout",
     "output_type": "stream",
     "text": [
      "--- average score ---\n",
      "  best\n",
      "    f_measure (K):  0.9442492012779551 (2.0)\n",
      "    ARI (K):        0.7733499292001705 (2.0)\n",
      "  NMC\n",
      "    K:         8.5\n",
      "    f_measure: 0.8200078196575419\n",
      "    ARI:       0.40241825800065384\n",
      "\n"
     ]
    }
   ],
   "source": [
    "for data_name in ['AIS', 'beetles', 'crabs', 'DLBCL', 'ecoli', 'seeds', 'wisconsin', 'yeast']:\n",
    "    print(f'[{data_name}]')\n",
    "    experiment_merge(data_name, algorithm_class=DEMP2MergeComponents, repeat=10)\n",
    "    print('')"
   ]
  },
  {
   "cell_type": "markdown",
   "metadata": {},
   "source": [
    "## MC"
   ]
  },
  {
   "cell_type": "code",
   "execution_count": 11,
   "metadata": {},
   "outputs": [
    {
     "name": "stdout",
     "output_type": "stream",
     "text": [
      "[AIS]\n"
     ]
    },
    {
     "data": {
      "application/vnd.jupyter.widget-view+json": {
       "model_id": "",
       "version_major": 2,
       "version_minor": 0
      },
      "text/plain": [
       "HBox(children=(HTML(value=''), FloatProgress(value=0.0, max=10.0), HTML(value='')))"
      ]
     },
     "metadata": {},
     "output_type": "display_data"
    },
    {
     "name": "stdout",
     "output_type": "stream",
     "text": [
      "--- average score ---\n",
      "  best\n",
      "    f_measure (K):  0.9306930693069304 (2.0)\n",
      "    ARI (K):        0.7407112106490014 (2.0)\n",
      "  NMC\n",
      "    K:         5.0\n",
      "    f_measure: 0.802787831653256\n",
      "    ARI:       0.5341674636233911\n",
      "\n",
      "[beetles]\n"
     ]
    },
    {
     "data": {
      "application/vnd.jupyter.widget-view+json": {
       "model_id": "",
       "version_major": 2,
       "version_minor": 0
      },
      "text/plain": [
       "HBox(children=(HTML(value=''), FloatProgress(value=0.0, max=10.0), HTML(value='')))"
      ]
     },
     "metadata": {},
     "output_type": "display_data"
    },
    {
     "name": "stdout",
     "output_type": "stream",
     "text": [
      "--- average score ---\n",
      "  best\n",
      "    f_measure (K):  0.9864864864864863 (3.0)\n",
      "    ARI (K):        0.9577751286738053 (3.0)\n",
      "  NMC\n",
      "    K:         3.0\n",
      "    f_measure: 0.9864864864864863\n",
      "    ARI:       0.9577751286738053\n",
      "\n",
      "[crabs]\n"
     ]
    },
    {
     "data": {
      "application/vnd.jupyter.widget-view+json": {
       "model_id": "",
       "version_major": 2,
       "version_minor": 0
      },
      "text/plain": [
       "HBox(children=(HTML(value=''), FloatProgress(value=0.0, max=10.0), HTML(value='')))"
      ]
     },
     "metadata": {},
     "output_type": "display_data"
    },
    {
     "name": "stdout",
     "output_type": "stream",
     "text": [
      "--- average score ---\n",
      "  best\n",
      "    f_measure (K):  0.8627073379707395 (5.6)\n",
      "    ARI (K):        0.6995578778056432 (5.6)\n",
      "  NMC\n",
      "    K:         6.2\n",
      "    f_measure: 0.8307715189946286\n",
      "    ARI:       0.6596833697389332\n",
      "\n",
      "[DLBCL]\n"
     ]
    },
    {
     "data": {
      "application/vnd.jupyter.widget-view+json": {
       "model_id": "",
       "version_major": 2,
       "version_minor": 0
      },
      "text/plain": [
       "HBox(children=(HTML(value=''), FloatProgress(value=0.0, max=10.0), HTML(value='')))"
      ]
     },
     "metadata": {},
     "output_type": "display_data"
    },
    {
     "name": "stdout",
     "output_type": "stream",
     "text": [
      "--- average score ---\n",
      "  best\n",
      "    f_measure (K):  0.9207681141789916 (3.6)\n",
      "    ARI (K):        0.8492250655262144 (3.6)\n",
      "  NMC\n",
      "    K:         11.3\n",
      "    f_measure: 0.7062058968363178\n",
      "    ARI:       0.4520415924064037\n",
      "\n",
      "[ecoli]\n"
     ]
    },
    {
     "data": {
      "application/vnd.jupyter.widget-view+json": {
       "model_id": "",
       "version_major": 2,
       "version_minor": 0
      },
      "text/plain": [
       "HBox(children=(HTML(value=''), FloatProgress(value=0.0, max=10.0), HTML(value='')))"
      ]
     },
     "metadata": {},
     "output_type": "display_data"
    },
    {
     "name": "stdout",
     "output_type": "stream",
     "text": [
      "--- average score ---\n",
      "  best\n",
      "    f_measure (K):  0.870416369280121 (4.9)\n",
      "    ARI (K):        0.7442290766021828 (4.9)\n",
      "  NMC\n",
      "    K:         9.0\n",
      "    f_measure: 0.8601298864553885\n",
      "    ARI:       0.7003670841693705\n",
      "\n",
      "[seeds]\n"
     ]
    },
    {
     "data": {
      "application/vnd.jupyter.widget-view+json": {
       "model_id": "",
       "version_major": 2,
       "version_minor": 0
      },
      "text/plain": [
       "HBox(children=(HTML(value=''), FloatProgress(value=0.0, max=10.0), HTML(value='')))"
      ]
     },
     "metadata": {},
     "output_type": "display_data"
    },
    {
     "name": "stdout",
     "output_type": "stream",
     "text": [
      "--- average score ---\n",
      "  best\n",
      "    f_measure (K):  0.8864726413602609 (7.1)\n",
      "    ARI (K):        0.745492258822495 (7.1)\n",
      "  NMC\n",
      "    K:         8.6\n",
      "    f_measure: 0.8784795784366353\n",
      "    ARI:       0.7283862472423367\n",
      "\n",
      "[wisconsin]\n"
     ]
    },
    {
     "data": {
      "application/vnd.jupyter.widget-view+json": {
       "model_id": "",
       "version_major": 2,
       "version_minor": 0
      },
      "text/plain": [
       "HBox(children=(HTML(value=''), FloatProgress(value=0.0, max=10.0), HTML(value='')))"
      ]
     },
     "metadata": {},
     "output_type": "display_data"
    },
    {
     "name": "stdout",
     "output_type": "stream",
     "text": [
      "--- average score ---\n",
      "  best\n",
      "    f_measure (K):  0.8863439855161376 (2.7)\n",
      "    ARI (K):        0.6638800411608899 (4.0)\n",
      "  NMC\n",
      "    K:         6.1\n",
      "    f_measure: 0.8575728781944832\n",
      "    ARI:       0.6327480271340877\n",
      "\n",
      "[yeast]\n"
     ]
    },
    {
     "data": {
      "application/vnd.jupyter.widget-view+json": {
       "model_id": "",
       "version_major": 2,
       "version_minor": 0
      },
      "text/plain": [
       "HBox(children=(HTML(value=''), FloatProgress(value=0.0, max=10.0), HTML(value='')))"
      ]
     },
     "metadata": {},
     "output_type": "display_data"
    },
    {
     "name": "stdout",
     "output_type": "stream",
     "text": [
      "--- average score ---\n",
      "  best\n",
      "    f_measure (K):  0.9279552715654953 (2.0)\n",
      "    ARI (K):        0.7091886763002544 (2.0)\n",
      "  NMC\n",
      "    K:         9.7\n",
      "    f_measure: 0.7710800486769616\n",
      "    ARI:       0.3134260891503135\n",
      "\n"
     ]
    }
   ],
   "source": [
    "for data_name in ['AIS', 'beetles', 'crabs', 'DLBCL', 'ecoli', 'seeds', 'wisconsin', 'yeast']:\n",
    "    print(f'[{data_name}]')\n",
    "    experiment_merge(data_name, algorithm_class=MCMergeComponents, repeat=10)\n",
    "    print('')"
   ]
  },
  {
   "cell_type": "markdown",
   "metadata": {},
   "source": [
    "## NMC"
   ]
  },
  {
   "cell_type": "code",
   "execution_count": 12,
   "metadata": {},
   "outputs": [
    {
     "name": "stdout",
     "output_type": "stream",
     "text": [
      "[AIS]\n"
     ]
    },
    {
     "data": {
      "application/vnd.jupyter.widget-view+json": {
       "model_id": "",
       "version_major": 2,
       "version_minor": 0
      },
      "text/plain": [
       "HBox(children=(HTML(value=''), FloatProgress(value=0.0, max=10.0), HTML(value='')))"
      ]
     },
     "metadata": {},
     "output_type": "display_data"
    },
    {
     "name": "stdout",
     "output_type": "stream",
     "text": [
      "--- average score ---\n",
      "  best\n",
      "    f_measure (K):  0.9156007492641155 (3.0)\n",
      "    ARI (K):        0.700465529867522 (4.0)\n",
      "  NMC\n",
      "    K:         4.0\n",
      "    f_measure: 0.8915827870875731\n",
      "    ARI:       0.700465529867522\n",
      "\n",
      "[beetles]\n"
     ]
    },
    {
     "data": {
      "application/vnd.jupyter.widget-view+json": {
       "model_id": "",
       "version_major": 2,
       "version_minor": 0
      },
      "text/plain": [
       "HBox(children=(HTML(value=''), FloatProgress(value=0.0, max=10.0), HTML(value='')))"
      ]
     },
     "metadata": {},
     "output_type": "display_data"
    },
    {
     "name": "stdout",
     "output_type": "stream",
     "text": [
      "--- average score ---\n",
      "  best\n",
      "    f_measure (K):  0.9864864864864863 (3.0)\n",
      "    ARI (K):        0.9577751286738053 (3.0)\n",
      "  NMC\n",
      "    K:         3.0\n",
      "    f_measure: 0.9864864864864863\n",
      "    ARI:       0.9577751286738053\n",
      "\n",
      "[crabs]\n"
     ]
    },
    {
     "data": {
      "application/vnd.jupyter.widget-view+json": {
       "model_id": "",
       "version_major": 2,
       "version_minor": 0
      },
      "text/plain": [
       "HBox(children=(HTML(value=''), FloatProgress(value=0.0, max=10.0), HTML(value='')))"
      ]
     },
     "metadata": {},
     "output_type": "display_data"
    },
    {
     "name": "stdout",
     "output_type": "stream",
     "text": [
      "--- average score ---\n",
      "  best\n",
      "    f_measure (K):  0.8926972817295932 (4.3)\n",
      "    ARI (K):        0.7484014414272265 (4.3)\n",
      "  NMC\n",
      "    K:         3.1\n",
      "    f_measure: 0.8283357159431819\n",
      "    ARI:       0.6432628582612688\n",
      "\n",
      "[DLBCL]\n"
     ]
    },
    {
     "data": {
      "application/vnd.jupyter.widget-view+json": {
       "model_id": "",
       "version_major": 2,
       "version_minor": 0
      },
      "text/plain": [
       "HBox(children=(HTML(value=''), FloatProgress(value=0.0, max=10.0), HTML(value='')))"
      ]
     },
     "metadata": {},
     "output_type": "display_data"
    },
    {
     "name": "stdout",
     "output_type": "stream",
     "text": [
      "--- average score ---\n",
      "  best\n",
      "    f_measure (K):  0.9487813575460056 (7.1)\n",
      "    ARI (K):        0.9277175462254874 (7.0)\n",
      "  NMC\n",
      "    K:         6.4\n",
      "    f_measure: 0.9160452515564078\n",
      "    ARI:       0.87772509232502\n",
      "\n",
      "[ecoli]\n"
     ]
    },
    {
     "data": {
      "application/vnd.jupyter.widget-view+json": {
       "model_id": "",
       "version_major": 2,
       "version_minor": 0
      },
      "text/plain": [
       "HBox(children=(HTML(value=''), FloatProgress(value=0.0, max=10.0), HTML(value='')))"
      ]
     },
     "metadata": {},
     "output_type": "display_data"
    },
    {
     "name": "stdout",
     "output_type": "stream",
     "text": [
      "--- average score ---\n",
      "  best\n",
      "    f_measure (K):  0.8749076748172093 (6.4)\n",
      "    ARI (K):        0.7691275778030197 (6.4)\n",
      "  NMC\n",
      "    K:         4.3\n",
      "    f_measure: 0.84829518317622\n",
      "    ARI:       0.725437496613987\n",
      "\n",
      "[seeds]\n"
     ]
    },
    {
     "data": {
      "application/vnd.jupyter.widget-view+json": {
       "model_id": "",
       "version_major": 2,
       "version_minor": 0
      },
      "text/plain": [
       "HBox(children=(HTML(value=''), FloatProgress(value=0.0, max=10.0), HTML(value='')))"
      ]
     },
     "metadata": {},
     "output_type": "display_data"
    },
    {
     "name": "stdout",
     "output_type": "stream",
     "text": [
      "--- average score ---\n",
      "  best\n",
      "    f_measure (K):  0.9380490698040246 (4.3)\n",
      "    ARI (K):        0.8317412488463155 (4.4)\n",
      "  NMC\n",
      "    K:         3.2\n",
      "    f_measure: 0.8095845356878719\n",
      "    ARI:       0.5749939278709376\n",
      "\n",
      "[wisconsin]\n"
     ]
    },
    {
     "data": {
      "application/vnd.jupyter.widget-view+json": {
       "model_id": "",
       "version_major": 2,
       "version_minor": 0
      },
      "text/plain": [
       "HBox(children=(HTML(value=''), FloatProgress(value=0.0, max=10.0), HTML(value='')))"
      ]
     },
     "metadata": {},
     "output_type": "display_data"
    },
    {
     "name": "stdout",
     "output_type": "stream",
     "text": [
      "--- average score ---\n",
      "  best\n",
      "    f_measure (K):  0.9449912126537784 (2.0)\n",
      "    ARI (K):        0.7908557575700376 (2.0)\n",
      "  NMC\n",
      "    K:         2.9\n",
      "    f_measure: 0.9249399222231128\n",
      "    ARI:       0.7315976115757847\n",
      "\n",
      "[yeast]\n"
     ]
    },
    {
     "data": {
      "application/vnd.jupyter.widget-view+json": {
       "model_id": "",
       "version_major": 2,
       "version_minor": 0
      },
      "text/plain": [
       "HBox(children=(HTML(value=''), FloatProgress(value=0.0, max=10.0), HTML(value='')))"
      ]
     },
     "metadata": {},
     "output_type": "display_data"
    },
    {
     "name": "stdout",
     "output_type": "stream",
     "text": [
      "--- average score ---\n",
      "  best\n",
      "    f_measure (K):  0.941613556478891 (2.1)\n",
      "    ARI (K):        0.7604293654630472 (2.1)\n",
      "  NMC\n",
      "    K:         6.9\n",
      "    f_measure: 0.8783098257596113\n",
      "    ARI:       0.5244202374165469\n",
      "\n"
     ]
    }
   ],
   "source": [
    "for data_name in ['AIS', 'beetles', 'crabs', 'DLBCL', 'ecoli', 'seeds', 'wisconsin', 'yeast']:\n",
    "    print(f'[{data_name}]')\n",
    "    experiment_merge(data_name, algorithm_class=NMCMergeComponents, repeat=10)\n",
    "    print('')"
   ]
  }
 ],
 "metadata": {
  "kernelspec": {
   "display_name": "Python 3",
   "language": "python",
   "name": "python3"
  },
  "language_info": {
   "codemirror_mode": {
    "name": "ipython",
    "version": 3
   },
   "file_extension": ".py",
   "mimetype": "text/x-python",
   "name": "python",
   "nbconvert_exporter": "python",
   "pygments_lexer": "ipython3",
   "version": "3.7.9"
  }
 },
 "nbformat": 4,
 "nbformat_minor": 4
}
